{
 "cells": [
  {
   "cell_type": "markdown",
   "metadata": {},
   "source": [
    "# Introduction to pandas for Data Analysis\n",
    "\n",
    "This notebook introduces pandas, Python's powerful data manipulation library, by comparing it with familiar Excel operations.\n",
    "\n",
    "## Learning Objectives\n",
    "1. Understand pandas DataFrame basics\n",
    "2. Learn Excel to pandas translations\n",
    "3. Perform basic data analysis with real sales data"
   ]
  },
  {
   "cell_type": "code",
   "execution_count": null,
   "metadata": {},
   "source": [
    "# Import required libraries\n",
    "import pandas as pd\n",
    "import matplotlib.pyplot as plt\n",
    "import seaborn as sns\n",
    "\n",
    "# Set plot style\n",
    "plt.style.use('seaborn')\n",
    "%matplotlib inline"
   ]
  },
  {
   "cell_type": "markdown",
   "metadata": {},
   "source": [
    "## 1. Loading Data (Like Opening an Excel File)\n",
    "\n",
    "In Excel, you open files directly. In pandas, we use functions like `read_csv()`, `read_excel()`, etc."
   ]
  },
  {
   "cell_type": "code",
   "execution_count": null,
   "metadata": {},
   "source": [
    "# Load the retail sales data\n",
    "sales_df = pd.read_csv('../../datasets/sales/retail_sales_data.csv')\n",
    "\n",
    "# Convert Date column to datetime\n",
    "sales_df['Date'] = pd.to_datetime(sales_df['Date'])\n",
    "\n",
    "# Display the first few rows (like scrolling to top in Excel)\n",
    "print(\"First 5 rows:\")\n",
    "sales_df.head()"
   ]
  },
  {
   "cell_type": "markdown",
   "metadata": {},
   "source": [
    "## 2. Basic Excel Operations in pandas\n",
    "\n",
    "Common Excel operations and their pandas equivalents:"
   ]
  },
  {
   "cell_type": "code",
   "execution_count": null,
   "metadata": {},
   "source": [
    "# Data Overview (like Excel's sheet overview)\n",
    "print(\"Dataset Shape (rows, columns):\", sales_df.shape)\n",
    "print(\"\\nColumn Names:\")\n",
    "print(sales_df.columns.tolist())\n",
    "\n",
    "# Basic statistics (like Excel's descriptive statistics)\n",
    "print(\"\\nNumerical Summary:\")\n",
    "sales_df.describe()"
   ]
  },
  {
   "cell_type": "markdown",
   "metadata": {},
   "source": [
    "## 3. Filtering Data (Like Excel's Filter Feature)"
   ]
  },
  {
   "cell_type": "code",
   "execution_count": null,
   "metadata": {},
   "source": [
    "# Multiple filters (like Excel's filter combinations)\n",
    "electronics = sales_df[sales_df['Category'] == 'Electronics']\n",
    "high_value = sales_df[sales_df['Total_Sales'] > 2000]\n",
    "promotional_sales = sales_df[sales_df['On_Promotion'] == True]\n",
    "\n",
    "print(\"Electronics Products Summary:\")\n",
    "print(electronics['Total_Sales'].describe())\n",
    "\n",
    "print(\"\\nNumber of High-Value Sales:\", len(high_value))\n",
    "print(\"Number of Promotional Sales:\", len(promotional_sales))"
   ]
  },
  {
   "cell_type": "markdown",
   "metadata": {},
   "source": [
    "## 4. Time-Based Analysis (Like Excel's Date Functions)"
   ]
  },
  {
   "cell_type": "code",
   "execution_count": null,
   "metadata": {},
   "source": [
    "# Add time-based columns\n",
    "sales_df['Month'] = sales_df['Date'].dt.month\n",
    "sales_df['Day_of_Week'] = sales_df['Date'].dt.day_name()\n",
    "sales_df['Is_Weekend'] = sales_df['Date'].dt.dayofweek.isin([5, 6])\n",
    "\n",
    "# Monthly sales analysis\n",
    "monthly_sales = sales_df.groupby('Month')['Total_Sales'].sum()\n",
    "\n",
    "# Plot monthly sales\n",
    "plt.figure(figsize=(12, 6))\n",
    "monthly_sales.plot(kind='bar')\n",
    "plt.title('Monthly Sales Distribution')\n",
    "plt.xlabel('Month')\n",
    "plt.ylabel('Total Sales ($)')\n",
    "plt.xticks(rotation=45)\n",
    "plt.tight_layout()\n",
    "plt.show()"
   ]
  },
  {
   "cell_type": "markdown",
   "metadata": {},
   "source": [
    "## 5. Grouping and Aggregating (Like Excel's PivotTables)"
   ]
  },
  {
   "cell_type": "code",
   "execution_count": null,
   "metadata": {},
   "source": [
    "# Complex pivot table equivalent\n",
    "pivot_table = sales_df.pivot_table(\n",
    "    values=['Total_Sales', 'Quantity'],\n",
    "    index=['Category', 'Region'],\n",
    "    columns=['On_Promotion'],\n",
    "    aggfunc={'Total_Sales': 'sum', 'Quantity': 'mean'},\n",
    "    fill_value=0\n",
    ")\n",
    "\n",
    "print(\"Sales and Quantity by Category, Region, and Promotion Status:\")\n",
    "print(pivot_table)"
   ]
  },
  {
   "cell_type": "markdown",
   "metadata": {},
   "source": [
    "## 6. Advanced Visualizations"
   ]
  },
  {
   "cell_type": "code",
   "execution_count": null,
   "metadata": {},
   "source": [
    "# Create a dashboard-style visualization\n",
    "fig, ((ax1, ax2), (ax3, ax4)) = plt.subplots(2, 2, figsize=(15, 12))\n",
    "\n",
    "# 1. Category Distribution\n",
    "category_sales = sales_df.groupby('Category')['Total_Sales'].sum()\n",
    "category_sales.plot(kind='pie', autopct='%1.1f%%', ax=ax1)\n",
    "ax1.set_title('Sales Distribution by Category')\n",
    "\n",
    "# 2. Regional Performance\n",
    "sns.boxplot(data=sales_df, x='Region', y='Total_Sales', ax=ax2)\n",
    "ax2.set_title('Sales Distribution by Region')\n",
    "ax2.tick_params(axis='x', rotation=45)\n",
    "\n",
    "# 3. Promotional Impact\n",
    "sns.barplot(data=sales_df, x='Category', y='Total_Sales', hue='On_Promotion', ax=ax3)\n",
    "ax3.set_title('Promotional vs Regular Sales')\n",
    "ax3.tick_params(axis='x', rotation=45)\n",
    "\n",
    "# 4. Price vs Quantity Relationship\n",
    "sns.scatterplot(data=sales_df, x='Unit_Price', y='Quantity', hue='Category', alpha=0.5, ax=ax4)\n",
    "ax4.set_title('Price vs Quantity Relationship')\n",
    "\n",
    "plt.tight_layout()\n",
    "plt.show()"
   ]
  },
  {
   "cell_type": "markdown",
   "metadata": {},
   "source": [
    "## Practice Exercises\n",
    "\n",
    "1. Time Series Analysis:\n",
    "   - Calculate daily total sales\n",
    "   - Find the busiest day of the week\n",
    "   - Compare weekday vs weekend sales\n",
    "\n",
    "2. Product Analysis:\n",
    "   - Calculate profit margins (assuming 40% cost)\n",
    "   - Find best-selling products by quantity\n",
    "   - Analyze promotional effectiveness\n",
    "\n",
    "3. Regional Analysis:\n",
    "   - Create regional sales rankings\n",
    "   - Find best-performing category by region\n",
    "   - Analyze regional seasonal patterns\n",
    "\n",
    "4. Advanced Dashboard:\n",
    "   - Create a monthly performance dashboard\n",
    "   - Add trend lines to visualizations\n",
    "   - Calculate and plot year-to-date totals"
   ]
  }
 ],
 "metadata": {
  "kernelspec": {
   "display_name": "Python 3",
   "language": "python",
   "name": "python3"
  },
  "language_info": {
   "codemirror_mode": {
    "name": "ipython",
    "version": 3
   },
   "file_extension": ".py",
   "mimetype": "text/x-python",
   "name": "python",
   "nbconvert_exporter": "python",
   "pygments_lexer": "ipython3",
   "version": "3.8.0"
  }
 },
 "nbformat": 4,
 "nbformat_minor": 4
}
