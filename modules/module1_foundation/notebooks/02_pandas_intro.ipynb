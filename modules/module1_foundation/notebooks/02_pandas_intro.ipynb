{
 "cells": [
  {
   "cell_type": "markdown",
   "metadata": {},
   "source": [
    "# Introduction to pandas for Data Analysis\n",
    "\n",
    "This notebook introduces pandas, Python's powerful data manipulation library, by comparing it with familiar Excel operations.\n",
    "\n",
    "## Learning Objectives\n",
    "1. Understand pandas DataFrame basics\n",
    "2. Learn Excel to pandas translations\n",
    "3. Perform basic data analysis"
   ]
  },
  {
   "cell_type": "code",
   "execution_count": null,
   "metadata": {},
   "source": [
    "# Import required libraries\n",
    "import pandas as pd\n",
    "import matplotlib.pyplot as plt\n",
    "%matplotlib inline"
   ]
  },
  {
   "cell_type": "markdown",
   "metadata": {},
   "source": [
    "## 1. Loading Data (Like Opening an Excel File)\n",
    "\n",
    "In Excel, you open files directly. In pandas, we use functions like `read_csv()`, `read_excel()`, etc."
   ]
  },
  {
   "cell_type": "code",
   "execution_count": null,
   "metadata": {},
   "source": [
    "# Load the sample sales data\n",
    "sales_df = pd.read_csv('../../datasets/sales/sample_sales_data.csv')\n",
    "\n",
    "# Display the first few rows (like scrolling to top in Excel)\n",
    "print(\"First 5 rows:\")\n",
    "sales_df.head()"
   ]
  },
  {
   "cell_type": "markdown",
   "metadata": {},
   "source": [
    "## 2. Basic Excel Operations in pandas\n",
    "\n",
    "Common Excel operations and their pandas equivalents:"
   ]
  },
  {
   "cell_type": "code",
   "execution_count": null,
   "metadata": {},
   "source": [
    "# Data Overview (like Excel's sheet overview)\n",
    "print(\"Dataset Shape (rows, columns):\", sales_df.shape)\n",
    "print(\"\\nColumn Names:\")\n",
    "print(sales_df.columns.tolist())\n",
    "\n",
    "# Basic statistics (like Excel's descriptive statistics)\n",
    "print(\"\\nNumerical Summary:\")\n",
    "sales_df.describe()"
   ]
  },
  {
   "cell_type": "markdown",
   "metadata": {},
   "source": [
    "## 3. Filtering Data (Like Excel's Filter Feature)"
   ]
  },
  {
   "cell_type": "code",
   "execution_count": null,
   "metadata": {},
   "source": [
    "# Filter electronics products (like Excel filter)\n",
    "electronics = sales_df[sales_df['Category'] == 'Electronics']\n",
    "\n",
    "# Filter high-value sales (>$2000)\n",
    "high_value = sales_df[sales_df['Total_Sales'] > 2000]\n",
    "\n",
    "print(\"Electronics Products Summary:\")\n",
    "print(electronics['Total_Sales'].describe())\n",
    "\n",
    "print(\"\\nNumber of High-Value Sales:\", len(high_value))"
   ]
  },
  {
   "cell_type": "markdown",
   "metadata": {},
   "source": [
    "## 4. Grouping and Aggregating (Like Excel's PivotTables)"
   ]
  },
  {
   "cell_type": "code",
   "execution_count": null,
   "metadata": {},
   "source": [
    "# Sales by Region (like a PivotTable)\n",
    "region_sales = sales_df.groupby('Region')['Total_Sales'].sum().sort_values(ascending=False)\n",
    "\n",
    "# Sales by Category\n",
    "category_sales = sales_df.groupby('Category').agg({\n",
    "    'Total_Sales': 'sum',\n",
    "    'Quantity': 'sum'\n",
    "}).round(2)\n",
    "\n",
    "print(\"Sales by Region:\")\n",
    "print(region_sales)\n",
    "print(\"\\nSales by Category:\")\n",
    "print(category_sales)"
   ]
  },
  {
   "cell_type": "markdown",
   "metadata": {},
   "source": [
    "## 5. Data Visualization (Better than Excel Charts!)"
   ]
  },
  {
   "cell_type": "code",
   "execution_count": null,
   "metadata": {},
   "source": [
    "# Bar chart of sales by region\n",
    "plt.figure(figsize=(10, 6))\n",
    "region_sales.plot(kind='bar')\n",
    "plt.title('Total Sales by Region')\n",
    "plt.xlabel('Region')\n",
    "plt.ylabel('Total Sales ($)')\n",
    "plt.xticks(rotation=45)\n",
    "plt.tight_layout()\n",
    "plt.show()"
   ]
  },
  {
   "cell_type": "markdown",
   "metadata": {},
   "source": [
    "## Practice Exercises\n",
    "\n",
    "1. Data Loading and Inspection:\n",
    "   - Load the sales data\n",
    "   - Display the last 5 rows\n",
    "   - Show basic information about the dataset\n",
    "\n",
    "2. Data Analysis:\n",
    "   - Calculate average sales by product\n",
    "   - Find the day with highest total sales\n",
    "   - Calculate the percentage of sales by category\n",
    "\n",
    "3. Data Visualization:\n",
    "   - Create a line plot of daily sales\n",
    "   - Make a pie chart of sales by category\n",
    "   - Plot quantity sold vs total sales\n",
    "\n",
    "4. Advanced Analysis:\n",
    "   - Calculate running total of sales\n",
    "   - Find products with above-average sales\n",
    "   - Create a sales performance dashboard"
   ]
  }
 ],
 "metadata": {
  "kernelspec": {
   "display_name": "Python 3",
   "language": "python",
   "name": "python3"
  },
  "language_info": {
   "codemirror_mode": {
    "name": "ipython",
    "version": 3
   },
   "file_extension": ".py",
   "mimetype": "text/x-python",
   "name": "python",
   "nbconvert_exporter": "python",
   "pygments_lexer": "ipython3",
   "version": "3.8.0"
  }
 },
 "nbformat": 4,
 "nbformat_minor": 4
}
