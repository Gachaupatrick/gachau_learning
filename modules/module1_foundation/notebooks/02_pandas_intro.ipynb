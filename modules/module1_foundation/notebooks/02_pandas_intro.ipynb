{
 "cells": [
  {
   "cell_type": "markdown",
   "metadata": {},
   "source": [
    "# Introduction to pandas for Data Analysis\n",
    "\n",
    "This notebook introduces pandas, Python's powerful data manipulation library, by comparing it with familiar Excel operations.\n",
    "\n",
    "## Learning Objectives\n",
    "1. Understand pandas DataFrame basics\n",
    "2. Learn Excel to pandas translations\n",
    "3. Perform basic data analysis with real sales data"
   ]
  },
  {
   "cell_type": "code",
   "execution_count": 14,
   "metadata": {},
   "outputs": [
    {
     "ename": "OSError",
     "evalue": "'seaborn' is not a valid package style, path of style file, URL of style file, or library style name (library styles are listed in `style.available`)",
     "output_type": "error",
     "traceback": [
      "\u001b[1;31m---------------------------------------------------------------------------\u001b[0m",
      "\u001b[1;31mFileNotFoundError\u001b[0m                         Traceback (most recent call last)",
      "File \u001b[1;32me:\\Data Science\\gachau_learning\\venv\\Lib\\site-packages\\matplotlib\\style\\core.py:129\u001b[0m, in \u001b[0;36muse\u001b[1;34m(style)\u001b[0m\n\u001b[0;32m    128\u001b[0m \u001b[38;5;28;01mtry\u001b[39;00m:\n\u001b[1;32m--> 129\u001b[0m     style \u001b[38;5;241m=\u001b[39m \u001b[43m_rc_params_in_file\u001b[49m\u001b[43m(\u001b[49m\u001b[43mstyle\u001b[49m\u001b[43m)\u001b[49m\n\u001b[0;32m    130\u001b[0m \u001b[38;5;28;01mexcept\u001b[39;00m \u001b[38;5;167;01mOSError\u001b[39;00m \u001b[38;5;28;01mas\u001b[39;00m err:\n",
      "File \u001b[1;32me:\\Data Science\\gachau_learning\\venv\\Lib\\site-packages\\matplotlib\\__init__.py:903\u001b[0m, in \u001b[0;36m_rc_params_in_file\u001b[1;34m(fname, transform, fail_on_error)\u001b[0m\n\u001b[0;32m    902\u001b[0m rc_temp \u001b[38;5;241m=\u001b[39m {}\n\u001b[1;32m--> 903\u001b[0m \u001b[43m\u001b[49m\u001b[38;5;28;43;01mwith\u001b[39;49;00m\u001b[43m \u001b[49m\u001b[43m_open_file_or_url\u001b[49m\u001b[43m(\u001b[49m\u001b[43mfname\u001b[49m\u001b[43m)\u001b[49m\u001b[43m \u001b[49m\u001b[38;5;28;43;01mas\u001b[39;49;00m\u001b[43m \u001b[49m\u001b[43mfd\u001b[49m\u001b[43m:\u001b[49m\n\u001b[0;32m    904\u001b[0m \u001b[43m    \u001b[49m\u001b[38;5;28;43;01mtry\u001b[39;49;00m\u001b[43m:\u001b[49m\n",
      "File \u001b[1;32m~\\AppData\\Local\\Programs\\Python\\Python313\\Lib\\contextlib.py:141\u001b[0m, in \u001b[0;36m_GeneratorContextManager.__enter__\u001b[1;34m(self)\u001b[0m\n\u001b[0;32m    140\u001b[0m \u001b[38;5;28;01mtry\u001b[39;00m:\n\u001b[1;32m--> 141\u001b[0m     \u001b[38;5;28;01mreturn\u001b[39;00m \u001b[38;5;28;43mnext\u001b[39;49m\u001b[43m(\u001b[49m\u001b[38;5;28;43mself\u001b[39;49m\u001b[38;5;241;43m.\u001b[39;49m\u001b[43mgen\u001b[49m\u001b[43m)\u001b[49m\n\u001b[0;32m    142\u001b[0m \u001b[38;5;28;01mexcept\u001b[39;00m \u001b[38;5;167;01mStopIteration\u001b[39;00m:\n",
      "File \u001b[1;32me:\\Data Science\\gachau_learning\\venv\\Lib\\site-packages\\matplotlib\\__init__.py:880\u001b[0m, in \u001b[0;36m_open_file_or_url\u001b[1;34m(fname)\u001b[0m\n\u001b[0;32m    879\u001b[0m fname \u001b[38;5;241m=\u001b[39m os\u001b[38;5;241m.\u001b[39mpath\u001b[38;5;241m.\u001b[39mexpanduser(fname)\n\u001b[1;32m--> 880\u001b[0m \u001b[38;5;28;01mwith\u001b[39;00m \u001b[38;5;28;43mopen\u001b[39;49m\u001b[43m(\u001b[49m\u001b[43mfname\u001b[49m\u001b[43m,\u001b[49m\u001b[43m \u001b[49m\u001b[43mencoding\u001b[49m\u001b[38;5;241;43m=\u001b[39;49m\u001b[38;5;124;43m'\u001b[39;49m\u001b[38;5;124;43mutf-8\u001b[39;49m\u001b[38;5;124;43m'\u001b[39;49m\u001b[43m)\u001b[49m \u001b[38;5;28;01mas\u001b[39;00m f:\n\u001b[0;32m    881\u001b[0m     \u001b[38;5;28;01myield\u001b[39;00m f\n",
      "\u001b[1;31mFileNotFoundError\u001b[0m: [Errno 2] No such file or directory: 'seaborn'",
      "\nThe above exception was the direct cause of the following exception:\n",
      "\u001b[1;31mOSError\u001b[0m                                   Traceback (most recent call last)",
      "Cell \u001b[1;32mIn[14], line 7\u001b[0m\n\u001b[0;32m      4\u001b[0m \u001b[38;5;28;01mimport\u001b[39;00m\u001b[38;5;250m \u001b[39m\u001b[38;5;21;01mseaborn\u001b[39;00m\u001b[38;5;250m \u001b[39m\u001b[38;5;28;01mas\u001b[39;00m\u001b[38;5;250m \u001b[39m\u001b[38;5;21;01msns\u001b[39;00m\n\u001b[0;32m      6\u001b[0m \u001b[38;5;66;03m# Set plot style\u001b[39;00m\n\u001b[1;32m----> 7\u001b[0m \u001b[43mplt\u001b[49m\u001b[38;5;241;43m.\u001b[39;49m\u001b[43mstyle\u001b[49m\u001b[38;5;241;43m.\u001b[39;49m\u001b[43muse\u001b[49m\u001b[43m(\u001b[49m\u001b[38;5;124;43m'\u001b[39;49m\u001b[38;5;124;43mseaborn\u001b[39;49m\u001b[38;5;124;43m'\u001b[39;49m\u001b[43m)\u001b[49m\n\u001b[0;32m      8\u001b[0m get_ipython()\u001b[38;5;241m.\u001b[39mrun_line_magic(\u001b[38;5;124m'\u001b[39m\u001b[38;5;124mmatplotlib\u001b[39m\u001b[38;5;124m'\u001b[39m, \u001b[38;5;124m'\u001b[39m\u001b[38;5;124minline\u001b[39m\u001b[38;5;124m'\u001b[39m)\n",
      "File \u001b[1;32me:\\Data Science\\gachau_learning\\venv\\Lib\\site-packages\\matplotlib\\style\\core.py:131\u001b[0m, in \u001b[0;36muse\u001b[1;34m(style)\u001b[0m\n\u001b[0;32m    129\u001b[0m         style \u001b[38;5;241m=\u001b[39m _rc_params_in_file(style)\n\u001b[0;32m    130\u001b[0m     \u001b[38;5;28;01mexcept\u001b[39;00m \u001b[38;5;167;01mOSError\u001b[39;00m \u001b[38;5;28;01mas\u001b[39;00m err:\n\u001b[1;32m--> 131\u001b[0m         \u001b[38;5;28;01mraise\u001b[39;00m \u001b[38;5;167;01mOSError\u001b[39;00m(\n\u001b[0;32m    132\u001b[0m             \u001b[38;5;124mf\u001b[39m\u001b[38;5;124m\"\u001b[39m\u001b[38;5;132;01m{\u001b[39;00mstyle\u001b[38;5;132;01m!r}\u001b[39;00m\u001b[38;5;124m is not a valid package style, path of style \u001b[39m\u001b[38;5;124m\"\u001b[39m\n\u001b[0;32m    133\u001b[0m             \u001b[38;5;124mf\u001b[39m\u001b[38;5;124m\"\u001b[39m\u001b[38;5;124mfile, URL of style file, or library style name (library \u001b[39m\u001b[38;5;124m\"\u001b[39m\n\u001b[0;32m    134\u001b[0m             \u001b[38;5;124mf\u001b[39m\u001b[38;5;124m\"\u001b[39m\u001b[38;5;124mstyles are listed in `style.available`)\u001b[39m\u001b[38;5;124m\"\u001b[39m) \u001b[38;5;28;01mfrom\u001b[39;00m\u001b[38;5;250m \u001b[39m\u001b[38;5;21;01merr\u001b[39;00m\n\u001b[0;32m    135\u001b[0m filtered \u001b[38;5;241m=\u001b[39m {}\n\u001b[0;32m    136\u001b[0m \u001b[38;5;28;01mfor\u001b[39;00m k \u001b[38;5;129;01min\u001b[39;00m style:  \u001b[38;5;66;03m# don't trigger RcParams.__getitem__('backend')\u001b[39;00m\n",
      "\u001b[1;31mOSError\u001b[0m: 'seaborn' is not a valid package style, path of style file, URL of style file, or library style name (library styles are listed in `style.available`)"
     ]
    }
   ],
   "source": [
    "# Import required libraries\n",
    "import pandas as pd\n",
    "import matplotlib.pyplot as plt\n",
    "import seaborn as sns\n",
    "\n",
    "# Set plot style\n",
    "plt.style.use('seaborn')\n",
    "%matplotlib inline"
   ]
  },
  {
   "cell_type": "markdown",
   "metadata": {},
   "source": [
    "## 1. Loading Data (Like Opening an Excel File)\n",
    "\n",
    "In Excel, you open files directly. In pandas, we use functions like `read_csv()`, `read_excel()`, etc."
   ]
  },
  {
   "cell_type": "code",
   "execution_count": null,
   "metadata": {},
   "outputs": [
    {
     "name": "stdout",
     "output_type": "stream",
     "text": [
      "First 5 rows:\n"
     ]
    },
    {
     "data": {
      "text/html": [
       "<div>\n",
       "<style scoped>\n",
       "    .dataframe tbody tr th:only-of-type {\n",
       "        vertical-align: middle;\n",
       "    }\n",
       "\n",
       "    .dataframe tbody tr th {\n",
       "        vertical-align: top;\n",
       "    }\n",
       "\n",
       "    .dataframe thead th {\n",
       "        text-align: right;\n",
       "    }\n",
       "</style>\n",
       "<table border=\"1\" class=\"dataframe\">\n",
       "  <thead>\n",
       "    <tr style=\"text-align: right;\">\n",
       "      <th></th>\n",
       "      <th>Date</th>\n",
       "      <th>Product</th>\n",
       "      <th>Category</th>\n",
       "      <th>Region</th>\n",
       "      <th>Quantity</th>\n",
       "      <th>Unit_Price</th>\n",
       "      <th>Total_Sales</th>\n",
       "      <th>On_Promotion</th>\n",
       "    </tr>\n",
       "  </thead>\n",
       "  <tbody>\n",
       "    <tr>\n",
       "      <th>0</th>\n",
       "      <td>2023-01-01</td>\n",
       "      <td>Laptop</td>\n",
       "      <td>Electronics</td>\n",
       "      <td>East</td>\n",
       "      <td>81</td>\n",
       "      <td>997.22</td>\n",
       "      <td>80775.20</td>\n",
       "      <td>False</td>\n",
       "    </tr>\n",
       "    <tr>\n",
       "      <th>1</th>\n",
       "      <td>2023-01-01</td>\n",
       "      <td>Laptop</td>\n",
       "      <td>Electronics</td>\n",
       "      <td>West</td>\n",
       "      <td>89</td>\n",
       "      <td>995.31</td>\n",
       "      <td>88582.32</td>\n",
       "      <td>False</td>\n",
       "    </tr>\n",
       "    <tr>\n",
       "      <th>2</th>\n",
       "      <td>2023-01-01</td>\n",
       "      <td>Laptop</td>\n",
       "      <td>Electronics</td>\n",
       "      <td>North</td>\n",
       "      <td>87</td>\n",
       "      <td>1015.34</td>\n",
       "      <td>88334.45</td>\n",
       "      <td>False</td>\n",
       "    </tr>\n",
       "    <tr>\n",
       "      <th>3</th>\n",
       "      <td>2023-01-01</td>\n",
       "      <td>Laptop</td>\n",
       "      <td>Electronics</td>\n",
       "      <td>South</td>\n",
       "      <td>73</td>\n",
       "      <td>990.72</td>\n",
       "      <td>72322.69</td>\n",
       "      <td>False</td>\n",
       "    </tr>\n",
       "    <tr>\n",
       "      <th>4</th>\n",
       "      <td>2023-01-01</td>\n",
       "      <td>Smartphone</td>\n",
       "      <td>Electronics</td>\n",
       "      <td>East</td>\n",
       "      <td>60</td>\n",
       "      <td>673.20</td>\n",
       "      <td>40392.27</td>\n",
       "      <td>False</td>\n",
       "    </tr>\n",
       "  </tbody>\n",
       "</table>\n",
       "</div>"
      ],
      "text/plain": [
       "        Date     Product     Category Region  Quantity  Unit_Price  \\\n",
       "0 2023-01-01      Laptop  Electronics   East        81      997.22   \n",
       "1 2023-01-01      Laptop  Electronics   West        89      995.31   \n",
       "2 2023-01-01      Laptop  Electronics  North        87     1015.34   \n",
       "3 2023-01-01      Laptop  Electronics  South        73      990.72   \n",
       "4 2023-01-01  Smartphone  Electronics   East        60      673.20   \n",
       "\n",
       "   Total_Sales  On_Promotion  \n",
       "0     80775.20         False  \n",
       "1     88582.32         False  \n",
       "2     88334.45         False  \n",
       "3     72322.69         False  \n",
       "4     40392.27         False  "
      ]
     },
     "execution_count": 13,
     "metadata": {},
     "output_type": "execute_result"
    }
   ],
   "source": [
    "# Load the retail sales data\n",
    "sales_df = pd.read_csv(r'E:\\Data Science\\gachau_learning\\datasets\\sales\\retail_sales_data.csv')\n",
    "\n",
    "#import pandas as pd\n",
    "#sales = pd.read_csv('E:\\Data Science\\gachau_learning\\datasets\\sales\\sample_sales_data.csv')\n",
    "#print(sales.head())\n",
    "\n",
    "# Convert Date column to datetime\n",
    "sales_df['Date'] = pd.to_datetime(sales_df['Date'])\n",
    "\n",
    "# Display the first few rows (like scrolling to top in Excel)\n",
    "print(\"First 5 rows:\")\n",
    "sales_df.head()"
   ]
  },
  {
   "cell_type": "code",
   "execution_count": null,
   "metadata": {},
   "outputs": [
    {
     "name": "stdout",
     "output_type": "stream",
     "text": [
      "         Date   Product     Category  Quantity  Unit_Price  Total_Sales Region\n",
      "0  2023-01-01  Widget A  Electronics        50       29.99      1499.50   East\n",
      "1  2023-01-01  Gadget B  Electronics        30       49.99      1499.70   West\n",
      "2  2023-01-02    Tool C     Hardware        75       15.99      1199.25  North\n",
      "3  2023-01-02  Widget A  Electronics        45       29.99      1349.55  South\n",
      "4  2023-01-03  Gadget B  Electronics        60       49.99      2999.40   East\n"
     ]
    },
    {
     "name": "stderr",
     "output_type": "stream",
     "text": [
      "<>:2: SyntaxWarning: invalid escape sequence '\\D'\n",
      "<>:2: SyntaxWarning: invalid escape sequence '\\D'\n",
      "C:\\Users\\PC\\AppData\\Local\\Temp\\ipykernel_5812\\2656795997.py:2: SyntaxWarning: invalid escape sequence '\\D'\n",
      "  sales = pd.read_csv('E:\\Data Science\\gachau_learning\\datasets\\sales\\sample_sales_data.csv')\n"
     ]
    }
   ],
   "source": [
    "import pandas as pd\n",
    "sales = pd.read_csv('E:\\Data Science\\gachau_learning\\datasets\\sales\\sample_sales_data.csv')\n",
    "print(sales.head())"
   ]
  },
  {
   "cell_type": "code",
   "execution_count": null,
   "metadata": {},
   "outputs": [
    {
     "name": "stdout",
     "output_type": "stream",
     "text": [
      "         Date   Product     Category  Quantity  Unit_Price  Total_Sales Region\n",
      "0  2023-01-01  Widget A  Electronics        50       29.99      1499.50   East\n",
      "1  2023-01-01  Gadget B  Electronics        30       49.99      1499.70   West\n",
      "2  2023-01-02    Tool C     Hardware        75       15.99      1199.25  North\n",
      "3  2023-01-02  Widget A  Electronics        45       29.99      1349.55  South\n",
      "4  2023-01-03  Gadget B  Electronics        60       49.99      2999.40   East\n"
     ]
    },
    {
     "name": "stderr",
     "output_type": "stream",
     "text": [
      "<>:2: SyntaxWarning: invalid escape sequence '\\D'\n",
      "<>:2: SyntaxWarning: invalid escape sequence '\\D'\n",
      "C:\\Users\\PC\\AppData\\Local\\Temp\\ipykernel_5812\\2656795997.py:2: SyntaxWarning: invalid escape sequence '\\D'\n",
      "  sales = pd.read_csv('E:\\Data Science\\gachau_learning\\datasets\\sales\\sample_sales_data.csv')\n"
     ]
    }
   ],
   "source": [
    "import pandas as pd\n",
    "sales = pd.read_csv('E:\\Data Science\\gachau_learning\\datasets\\sales\\sample_sales_data.csv')\n",
    "print(sales.head())"
   ]
  },
  {
   "cell_type": "code",
   "execution_count": null,
   "metadata": {},
   "outputs": [
    {
     "name": "stdout",
     "output_type": "stream",
     "text": [
      "         Date   Product     Category  Quantity  Unit_Price  Total_Sales Region\n",
      "0  2023-01-01  Widget A  Electronics        50       29.99      1499.50   East\n",
      "1  2023-01-01  Gadget B  Electronics        30       49.99      1499.70   West\n",
      "2  2023-01-02    Tool C     Hardware        75       15.99      1199.25  North\n",
      "3  2023-01-02  Widget A  Electronics        45       29.99      1349.55  South\n",
      "4  2023-01-03  Gadget B  Electronics        60       49.99      2999.40   East\n"
     ]
    },
    {
     "name": "stderr",
     "output_type": "stream",
     "text": [
      "<>:2: SyntaxWarning: invalid escape sequence '\\D'\n",
      "<>:2: SyntaxWarning: invalid escape sequence '\\D'\n",
      "C:\\Users\\PC\\AppData\\Local\\Temp\\ipykernel_5812\\2656795997.py:2: SyntaxWarning: invalid escape sequence '\\D'\n",
      "  sales = pd.read_csv('E:\\Data Science\\gachau_learning\\datasets\\sales\\sample_sales_data.csv')\n"
     ]
    }
   ],
   "source": [
    "import pandas as pd\n",
    "sales = pd.read_csv('E:\\Data Science\\gachau_learning\\datasets\\sales\\sample_sales_data.csv')\n",
    "print(sales.head())"
   ]
  },
  {
   "cell_type": "code",
   "execution_count": null,
   "metadata": {},
   "outputs": [
    {
     "name": "stdout",
     "output_type": "stream",
     "text": [
      "         Date   Product     Category  Quantity  Unit_Price  Total_Sales Region\n",
      "0  2023-01-01  Widget A  Electronics        50       29.99      1499.50   East\n",
      "1  2023-01-01  Gadget B  Electronics        30       49.99      1499.70   West\n",
      "2  2023-01-02    Tool C     Hardware        75       15.99      1199.25  North\n",
      "3  2023-01-02  Widget A  Electronics        45       29.99      1349.55  South\n",
      "4  2023-01-03  Gadget B  Electronics        60       49.99      2999.40   East\n"
     ]
    },
    {
     "name": "stderr",
     "output_type": "stream",
     "text": [
      "<>:2: SyntaxWarning: invalid escape sequence '\\D'\n",
      "<>:2: SyntaxWarning: invalid escape sequence '\\D'\n",
      "C:\\Users\\PC\\AppData\\Local\\Temp\\ipykernel_5812\\2656795997.py:2: SyntaxWarning: invalid escape sequence '\\D'\n",
      "  sales = pd.read_csv('E:\\Data Science\\gachau_learning\\datasets\\sales\\sample_sales_data.csv')\n"
     ]
    }
   ],
   "source": [
    "import pandas as pd\n",
    "sales = pd.read_csv('E:\\Data Science\\gachau_learning\\datasets\\sales\\sample_sales_data.csv')\n",
    "print(sales.head())"
   ]
  },
  {
   "cell_type": "code",
   "execution_count": null,
   "metadata": {},
   "outputs": [
    {
     "name": "stdout",
     "output_type": "stream",
     "text": [
      "         Date   Product     Category  Quantity  Unit_Price  Total_Sales Region\n",
      "0  2023-01-01  Widget A  Electronics        50       29.99      1499.50   East\n",
      "1  2023-01-01  Gadget B  Electronics        30       49.99      1499.70   West\n",
      "2  2023-01-02    Tool C     Hardware        75       15.99      1199.25  North\n",
      "3  2023-01-02  Widget A  Electronics        45       29.99      1349.55  South\n",
      "4  2023-01-03  Gadget B  Electronics        60       49.99      2999.40   East\n"
     ]
    },
    {
     "name": "stderr",
     "output_type": "stream",
     "text": [
      "<>:2: SyntaxWarning: invalid escape sequence '\\D'\n",
      "<>:2: SyntaxWarning: invalid escape sequence '\\D'\n",
      "C:\\Users\\PC\\AppData\\Local\\Temp\\ipykernel_5812\\2656795997.py:2: SyntaxWarning: invalid escape sequence '\\D'\n",
      "  sales = pd.read_csv('E:\\Data Science\\gachau_learning\\datasets\\sales\\sample_sales_data.csv')\n"
     ]
    }
   ],
   "source": [
    "import pandas as pd\n",
    "sales = pd.read_csv('E:\\Data Science\\gachau_learning\\datasets\\sales\\sample_sales_data.csv')\n",
    "print(sales.head())"
   ]
  },
  {
   "cell_type": "code",
   "execution_count": null,
   "metadata": {},
   "outputs": [
    {
     "name": "stdout",
     "output_type": "stream",
     "text": [
      "         Date   Product     Category  Quantity  Unit_Price  Total_Sales Region\n",
      "0  2023-01-01  Widget A  Electronics        50       29.99      1499.50   East\n",
      "1  2023-01-01  Gadget B  Electronics        30       49.99      1499.70   West\n",
      "2  2023-01-02    Tool C     Hardware        75       15.99      1199.25  North\n",
      "3  2023-01-02  Widget A  Electronics        45       29.99      1349.55  South\n",
      "4  2023-01-03  Gadget B  Electronics        60       49.99      2999.40   East\n"
     ]
    },
    {
     "name": "stderr",
     "output_type": "stream",
     "text": [
      "<>:2: SyntaxWarning: invalid escape sequence '\\D'\n",
      "<>:2: SyntaxWarning: invalid escape sequence '\\D'\n",
      "C:\\Users\\PC\\AppData\\Local\\Temp\\ipykernel_5812\\2656795997.py:2: SyntaxWarning: invalid escape sequence '\\D'\n",
      "  sales = pd.read_csv('E:\\Data Science\\gachau_learning\\datasets\\sales\\sample_sales_data.csv')\n"
     ]
    }
   ],
   "source": [
    "import pandas as pd\n",
    "sales = pd.read_csv('E:\\Data Science\\gachau_learning\\datasets\\sales\\sample_sales_data.csv')\n",
    "print(sales.head())"
   ]
  },
  {
   "cell_type": "code",
   "execution_count": null,
   "metadata": {},
   "outputs": [
    {
     "name": "stdout",
     "output_type": "stream",
     "text": [
      "         Date   Product     Category  Quantity  Unit_Price  Total_Sales Region\n",
      "0  2023-01-01  Widget A  Electronics        50       29.99      1499.50   East\n",
      "1  2023-01-01  Gadget B  Electronics        30       49.99      1499.70   West\n",
      "2  2023-01-02    Tool C     Hardware        75       15.99      1199.25  North\n",
      "3  2023-01-02  Widget A  Electronics        45       29.99      1349.55  South\n",
      "4  2023-01-03  Gadget B  Electronics        60       49.99      2999.40   East\n"
     ]
    },
    {
     "name": "stderr",
     "output_type": "stream",
     "text": [
      "<>:2: SyntaxWarning: invalid escape sequence '\\D'\n",
      "<>:2: SyntaxWarning: invalid escape sequence '\\D'\n",
      "C:\\Users\\PC\\AppData\\Local\\Temp\\ipykernel_5812\\2656795997.py:2: SyntaxWarning: invalid escape sequence '\\D'\n",
      "  sales = pd.read_csv('E:\\Data Science\\gachau_learning\\datasets\\sales\\sample_sales_data.csv')\n"
     ]
    }
   ],
   "source": [
    "import pandas as pd\n",
    "sales = pd.read_csv('E:\\Data Science\\gachau_learning\\datasets\\sales\\sample_sales_data.csv')\n",
    "print(sales.head())"
   ]
  },
  {
   "cell_type": "code",
   "execution_count": null,
   "metadata": {},
   "outputs": [
    {
     "name": "stdout",
     "output_type": "stream",
     "text": [
      "         Date   Product     Category  Quantity  Unit_Price  Total_Sales Region\n",
      "0  2023-01-01  Widget A  Electronics        50       29.99      1499.50   East\n",
      "1  2023-01-01  Gadget B  Electronics        30       49.99      1499.70   West\n",
      "2  2023-01-02    Tool C     Hardware        75       15.99      1199.25  North\n",
      "3  2023-01-02  Widget A  Electronics        45       29.99      1349.55  South\n",
      "4  2023-01-03  Gadget B  Electronics        60       49.99      2999.40   East\n"
     ]
    },
    {
     "name": "stderr",
     "output_type": "stream",
     "text": [
      "<>:2: SyntaxWarning: invalid escape sequence '\\D'\n",
      "<>:2: SyntaxWarning: invalid escape sequence '\\D'\n",
      "C:\\Users\\PC\\AppData\\Local\\Temp\\ipykernel_5812\\2656795997.py:2: SyntaxWarning: invalid escape sequence '\\D'\n",
      "  sales = pd.read_csv('E:\\Data Science\\gachau_learning\\datasets\\sales\\sample_sales_data.csv')\n"
     ]
    }
   ],
   "source": [
    "import pandas as pd\n",
    "sales = pd.read_csv('E:\\Data Science\\gachau_learning\\datasets\\sales\\sample_sales_data.csv')\n",
    "print(sales.head())"
   ]
  },
  {
   "cell_type": "code",
   "execution_count": null,
   "metadata": {},
   "outputs": [
    {
     "name": "stdout",
     "output_type": "stream",
     "text": [
      "         Date   Product     Category  Quantity  Unit_Price  Total_Sales Region\n",
      "0  2023-01-01  Widget A  Electronics        50       29.99      1499.50   East\n",
      "1  2023-01-01  Gadget B  Electronics        30       49.99      1499.70   West\n",
      "2  2023-01-02    Tool C     Hardware        75       15.99      1199.25  North\n",
      "3  2023-01-02  Widget A  Electronics        45       29.99      1349.55  South\n",
      "4  2023-01-03  Gadget B  Electronics        60       49.99      2999.40   East\n"
     ]
    },
    {
     "name": "stderr",
     "output_type": "stream",
     "text": [
      "<>:2: SyntaxWarning: invalid escape sequence '\\D'\n",
      "<>:2: SyntaxWarning: invalid escape sequence '\\D'\n",
      "C:\\Users\\PC\\AppData\\Local\\Temp\\ipykernel_5812\\2656795997.py:2: SyntaxWarning: invalid escape sequence '\\D'\n",
      "  sales = pd.read_csv('E:\\Data Science\\gachau_learning\\datasets\\sales\\sample_sales_data.csv')\n"
     ]
    }
   ],
   "source": [
    "import pandas as pd\n",
    "sales = pd.read_csv('E:\\Data Science\\gachau_learning\\datasets\\sales\\sample_sales_data.csv')\n",
    "print(sales.head())"
   ]
  },
  {
   "cell_type": "code",
   "execution_count": null,
   "metadata": {},
   "outputs": [
    {
     "name": "stdout",
     "output_type": "stream",
     "text": [
      "         Date   Product     Category  Quantity  Unit_Price  Total_Sales Region\n",
      "0  2023-01-01  Widget A  Electronics        50       29.99      1499.50   East\n",
      "1  2023-01-01  Gadget B  Electronics        30       49.99      1499.70   West\n",
      "2  2023-01-02    Tool C     Hardware        75       15.99      1199.25  North\n",
      "3  2023-01-02  Widget A  Electronics        45       29.99      1349.55  South\n",
      "4  2023-01-03  Gadget B  Electronics        60       49.99      2999.40   East\n"
     ]
    },
    {
     "name": "stderr",
     "output_type": "stream",
     "text": [
      "<>:2: SyntaxWarning: invalid escape sequence '\\D'\n",
      "<>:2: SyntaxWarning: invalid escape sequence '\\D'\n",
      "C:\\Users\\PC\\AppData\\Local\\Temp\\ipykernel_5812\\2656795997.py:2: SyntaxWarning: invalid escape sequence '\\D'\n",
      "  sales = pd.read_csv('E:\\Data Science\\gachau_learning\\datasets\\sales\\sample_sales_data.csv')\n"
     ]
    }
   ],
   "source": [
    "import pandas as pd\n",
    "sales = pd.read_csv('E:\\Data Science\\gachau_learning\\datasets\\sales\\sample_sales_data.csv')\n",
    "print(sales.head())"
   ]
  },
  {
   "cell_type": "code",
   "execution_count": null,
   "metadata": {},
   "outputs": [
    {
     "name": "stdout",
     "output_type": "stream",
     "text": [
      "         Date   Product     Category  Quantity  Unit_Price  Total_Sales Region\n",
      "0  2023-01-01  Widget A  Electronics        50       29.99      1499.50   East\n",
      "1  2023-01-01  Gadget B  Electronics        30       49.99      1499.70   West\n",
      "2  2023-01-02    Tool C     Hardware        75       15.99      1199.25  North\n",
      "3  2023-01-02  Widget A  Electronics        45       29.99      1349.55  South\n",
      "4  2023-01-03  Gadget B  Electronics        60       49.99      2999.40   East\n"
     ]
    },
    {
     "name": "stderr",
     "output_type": "stream",
     "text": [
      "<>:2: SyntaxWarning: invalid escape sequence '\\D'\n",
      "<>:2: SyntaxWarning: invalid escape sequence '\\D'\n",
      "C:\\Users\\PC\\AppData\\Local\\Temp\\ipykernel_5812\\2656795997.py:2: SyntaxWarning: invalid escape sequence '\\D'\n",
      "  sales = pd.read_csv('E:\\Data Science\\gachau_learning\\datasets\\sales\\sample_sales_data.csv')\n"
     ]
    }
   ],
   "source": [
    "import pandas as pd\n",
    "sales = pd.read_csv('E:\\Data Science\\gachau_learning\\datasets\\sales\\sample_sales_data.csv')\n",
    "print(sales.head())"
   ]
  },
  {
   "cell_type": "code",
   "execution_count": null,
   "metadata": {},
   "outputs": [
    {
     "name": "stdout",
     "output_type": "stream",
     "text": [
      "         Date   Product     Category  Quantity  Unit_Price  Total_Sales Region\n",
      "0  2023-01-01  Widget A  Electronics        50       29.99      1499.50   East\n",
      "1  2023-01-01  Gadget B  Electronics        30       49.99      1499.70   West\n",
      "2  2023-01-02    Tool C     Hardware        75       15.99      1199.25  North\n",
      "3  2023-01-02  Widget A  Electronics        45       29.99      1349.55  South\n",
      "4  2023-01-03  Gadget B  Electronics        60       49.99      2999.40   East\n"
     ]
    },
    {
     "name": "stderr",
     "output_type": "stream",
     "text": [
      "<>:2: SyntaxWarning: invalid escape sequence '\\D'\n",
      "<>:2: SyntaxWarning: invalid escape sequence '\\D'\n",
      "C:\\Users\\PC\\AppData\\Local\\Temp\\ipykernel_5812\\2656795997.py:2: SyntaxWarning: invalid escape sequence '\\D'\n",
      "  sales = pd.read_csv('E:\\Data Science\\gachau_learning\\datasets\\sales\\sample_sales_data.csv')\n"
     ]
    }
   ],
   "source": [
    "import pandas as pd\n",
    "sales = pd.read_csv('E:\\Data Science\\gachau_learning\\datasets\\sales\\sample_sales_data.csv')\n",
    "print(sales.head())"
   ]
  },
  {
   "cell_type": "code",
   "execution_count": null,
   "metadata": {},
   "outputs": [
    {
     "name": "stdout",
     "output_type": "stream",
     "text": [
      "         Date   Product     Category  Quantity  Unit_Price  Total_Sales Region\n",
      "0  2023-01-01  Widget A  Electronics        50       29.99      1499.50   East\n",
      "1  2023-01-01  Gadget B  Electronics        30       49.99      1499.70   West\n",
      "2  2023-01-02    Tool C     Hardware        75       15.99      1199.25  North\n",
      "3  2023-01-02  Widget A  Electronics        45       29.99      1349.55  South\n",
      "4  2023-01-03  Gadget B  Electronics        60       49.99      2999.40   East\n"
     ]
    },
    {
     "name": "stderr",
     "output_type": "stream",
     "text": [
      "<>:2: SyntaxWarning: invalid escape sequence '\\D'\n",
      "<>:2: SyntaxWarning: invalid escape sequence '\\D'\n",
      "C:\\Users\\PC\\AppData\\Local\\Temp\\ipykernel_5812\\2656795997.py:2: SyntaxWarning: invalid escape sequence '\\D'\n",
      "  sales = pd.read_csv('E:\\Data Science\\gachau_learning\\datasets\\sales\\sample_sales_data.csv')\n"
     ]
    }
   ],
   "source": [
    "import pandas as pd\n",
    "sales = pd.read_csv('E:\\Data Science\\gachau_learning\\datasets\\sales\\sample_sales_data.csv')\n",
    "print(sales.head())"
   ]
  },
  {
   "cell_type": "code",
   "execution_count": null,
   "metadata": {},
   "outputs": [
    {
     "name": "stdout",
     "output_type": "stream",
     "text": [
      "         Date   Product     Category  Quantity  Unit_Price  Total_Sales Region\n",
      "0  2023-01-01  Widget A  Electronics        50       29.99      1499.50   East\n",
      "1  2023-01-01  Gadget B  Electronics        30       49.99      1499.70   West\n",
      "2  2023-01-02    Tool C     Hardware        75       15.99      1199.25  North\n",
      "3  2023-01-02  Widget A  Electronics        45       29.99      1349.55  South\n",
      "4  2023-01-03  Gadget B  Electronics        60       49.99      2999.40   East\n"
     ]
    },
    {
     "name": "stderr",
     "output_type": "stream",
     "text": [
      "<>:2: SyntaxWarning: invalid escape sequence '\\D'\n",
      "<>:2: SyntaxWarning: invalid escape sequence '\\D'\n",
      "C:\\Users\\PC\\AppData\\Local\\Temp\\ipykernel_5812\\2656795997.py:2: SyntaxWarning: invalid escape sequence '\\D'\n",
      "  sales = pd.read_csv('E:\\Data Science\\gachau_learning\\datasets\\sales\\sample_sales_data.csv')\n"
     ]
    }
   ],
   "source": [
    "import pandas as pd\n",
    "sales = pd.read_csv('E:\\Data Science\\gachau_learning\\datasets\\sales\\sample_sales_data.csv')\n",
    "print(sales.head())"
   ]
  },
  {
   "cell_type": "code",
   "execution_count": null,
   "metadata": {},
   "outputs": [
    {
     "name": "stdout",
     "output_type": "stream",
     "text": [
      "         Date   Product     Category  Quantity  Unit_Price  Total_Sales Region\n",
      "0  2023-01-01  Widget A  Electronics        50       29.99      1499.50   East\n",
      "1  2023-01-01  Gadget B  Electronics        30       49.99      1499.70   West\n",
      "2  2023-01-02    Tool C     Hardware        75       15.99      1199.25  North\n",
      "3  2023-01-02  Widget A  Electronics        45       29.99      1349.55  South\n",
      "4  2023-01-03  Gadget B  Electronics        60       49.99      2999.40   East\n"
     ]
    },
    {
     "name": "stderr",
     "output_type": "stream",
     "text": [
      "<>:2: SyntaxWarning: invalid escape sequence '\\D'\n",
      "<>:2: SyntaxWarning: invalid escape sequence '\\D'\n",
      "C:\\Users\\PC\\AppData\\Local\\Temp\\ipykernel_5812\\2656795997.py:2: SyntaxWarning: invalid escape sequence '\\D'\n",
      "  sales = pd.read_csv('E:\\Data Science\\gachau_learning\\datasets\\sales\\sample_sales_data.csv')\n"
     ]
    }
   ],
   "source": [
    "import pandas as pd\n",
    "sales = pd.read_csv('E:\\Data Science\\gachau_learning\\datasets\\sales\\sample_sales_data.csv')\n",
    "print(sales.head())"
   ]
  },
  {
   "cell_type": "markdown",
   "metadata": {},
   "source": [
    "## 2. Basic Excel Operations in pandas\n",
    "\n",
    "Common Excel operations and their pandas equivalents:"
   ]
  },
  {
   "cell_type": "code",
   "execution_count": null,
   "metadata": {},
   "outputs": [],
   "source": [
    "# Data Overview (like Excel's sheet overview)\n",
    "print(\"Dataset Shape (rows, columns):\", sales_df.shape)\n",
    "print(\"\\nColumn Names:\")\n",
    "print(sales_df.columns.tolist())\n",
    "\n",
    "# Basic statistics (like Excel's descriptive statistics)\n",
    "print(\"\\nNumerical Summary:\")\n",
    "sales_df.describe()"
   ]
  },
  {
   "cell_type": "markdown",
   "metadata": {},
   "source": [
    "## 3. Filtering Data (Like Excel's Filter Feature)"
   ]
  },
  {
   "cell_type": "code",
   "execution_count": null,
   "metadata": {},
   "outputs": [],
   "source": [
    "# Multiple filters (like Excel's filter combinations)\n",
    "electronics = sales_df[sales_df['Category'] == 'Electronics']\n",
    "high_value = sales_df[sales_df['Total_Sales'] > 2000]\n",
    "promotional_sales = sales_df[sales_df['On_Promotion'] == True]\n",
    "\n",
    "print(\"Electronics Products Summary:\")\n",
    "print(electronics['Total_Sales'].describe())\n",
    "\n",
    "print(\"\\nNumber of High-Value Sales:\", len(high_value))\n",
    "print(\"Number of Promotional Sales:\", len(promotional_sales))"
   ]
  },
  {
   "cell_type": "markdown",
   "metadata": {},
   "source": [
    "## 4. Time-Based Analysis (Like Excel's Date Functions)"
   ]
  },
  {
   "cell_type": "code",
   "execution_count": null,
   "metadata": {},
   "outputs": [],
   "source": [
    "# Add time-based columns\n",
    "sales_df['Month'] = sales_df['Date'].dt.month\n",
    "sales_df['Day_of_Week'] = sales_df['Date'].dt.day_name()\n",
    "sales_df['Is_Weekend'] = sales_df['Date'].dt.dayofweek.isin([5, 6])\n",
    "\n",
    "# Monthly sales analysis\n",
    "monthly_sales = sales_df.groupby('Month')['Total_Sales'].sum()\n",
    "\n",
    "# Plot monthly sales\n",
    "plt.figure(figsize=(12, 6))\n",
    "monthly_sales.plot(kind='bar')\n",
    "plt.title('Monthly Sales Distribution')\n",
    "plt.xlabel('Month')\n",
    "plt.ylabel('Total Sales ($)')\n",
    "plt.xticks(rotation=45)\n",
    "plt.tight_layout()\n",
    "plt.show()"
   ]
  },
  {
   "cell_type": "markdown",
   "metadata": {},
   "source": [
    "## 5. Grouping and Aggregating (Like Excel's PivotTables)"
   ]
  },
  {
   "cell_type": "code",
   "execution_count": null,
   "metadata": {},
   "outputs": [],
   "source": [
    "# Complex pivot table equivalent\n",
    "pivot_table = sales_df.pivot_table(\n",
    "    values=['Total_Sales', 'Quantity'],\n",
    "    index=['Category', 'Region'],\n",
    "    columns=['On_Promotion'],\n",
    "    aggfunc={'Total_Sales': 'sum', 'Quantity': 'mean'},\n",
    "    fill_value=0\n",
    ")\n",
    "\n",
    "print(\"Sales and Quantity by Category, Region, and Promotion Status:\")\n",
    "print(pivot_table)"
   ]
  },
  {
   "cell_type": "markdown",
   "metadata": {},
   "source": [
    "## 6. Advanced Visualizations"
   ]
  },
  {
   "cell_type": "code",
   "execution_count": null,
   "metadata": {},
   "outputs": [],
   "source": [
    "# Create a dashboard-style visualization\n",
    "fig, ((ax1, ax2), (ax3, ax4)) = plt.subplots(2, 2, figsize=(15, 12))\n",
    "\n",
    "# 1. Category Distribution\n",
    "category_sales = sales_df.groupby('Category')['Total_Sales'].sum()\n",
    "category_sales.plot(kind='pie', autopct='%1.1f%%', ax=ax1)\n",
    "ax1.set_title('Sales Distribution by Category')\n",
    "\n",
    "# 2. Regional Performance\n",
    "sns.boxplot(data=sales_df, x='Region', y='Total_Sales', ax=ax2)\n",
    "ax2.set_title('Sales Distribution by Region')\n",
    "ax2.tick_params(axis='x', rotation=45)\n",
    "\n",
    "# 3. Promotional Impact\n",
    "sns.barplot(data=sales_df, x='Category', y='Total_Sales', hue='On_Promotion', ax=ax3)\n",
    "ax3.set_title('Promotional vs Regular Sales')\n",
    "ax3.tick_params(axis='x', rotation=45)\n",
    "\n",
    "# 4. Price vs Quantity Relationship\n",
    "sns.scatterplot(data=sales_df, x='Unit_Price', y='Quantity', hue='Category', alpha=0.5, ax=ax4)\n",
    "ax4.set_title('Price vs Quantity Relationship')\n",
    "\n",
    "plt.tight_layout()\n",
    "plt.show()"
   ]
  },
  {
   "cell_type": "markdown",
   "metadata": {},
   "source": [
    "## Practice Exercises\n",
    "\n",
    "1. Time Series Analysis:\n",
    "   - Calculate daily total sales\n",
    "   - Find the busiest day of the week\n",
    "   - Compare weekday vs weekend sales\n",
    "\n",
    "2. Product Analysis:\n",
    "   - Calculate profit margins (assuming 40% cost)\n",
    "   - Find best-selling products by quantity\n",
    "   - Analyze promotional effectiveness\n",
    "\n",
    "3. Regional Analysis:\n",
    "   - Create regional sales rankings\n",
    "   - Find best-performing category by region\n",
    "   - Analyze regional seasonal patterns\n",
    "\n",
    "4. Advanced Dashboard:\n",
    "   - Create a monthly performance dashboard\n",
    "   - Add trend lines to visualizations\n",
    "   - Calculate and plot year-to-date totals"
   ]
  }
 ],
 "metadata": {
  "kernelspec": {
   "display_name": "data_analytics",
   "language": "python",
   "name": "data_analytics"
  },
  "language_info": {
   "codemirror_mode": {
    "name": "ipython",
    "version": 3
   },
   "file_extension": ".py",
   "mimetype": "text/x-python",
   "name": "python",
   "nbconvert_exporter": "python",
   "pygments_lexer": "ipython3",
   "version": "3.13.1"
  }
 },
 "nbformat": 4,
 "nbformat_minor": 4
}
