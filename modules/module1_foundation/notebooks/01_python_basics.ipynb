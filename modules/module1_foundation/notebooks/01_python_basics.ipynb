{
 "cells": [
  {
   "cell_type": "markdown",
   "metadata": {},
   "source": [
    "# Python Basics for Data Analysis\n",
    "\n",
    "Welcome to your first Python notebook! This lesson bridges your Excel knowledge with Python programming, focusing on practical data analysis concepts.\n",
    "\n",
    "## Learning Objectives\n",
    "1. Understand Python basics with data analysis context\n",
    "2. Learn Excel to Python translations\n",
    "3. Practice with real-world examples"
   ]
  },
  {
   "cell_type": "markdown",
   "metadata": {},
   "source": [
    "## 1. Python vs Excel: Basic Concepts\n",
    "\n",
    "Let's start by comparing familiar Excel concepts with their Python equivalents:\n",
    "\n",
    "| Excel | Python | Description |\n",
    "|-------|--------|-------------|\n",
    "| Cell | Variable | Stores a single value |\n",
    "| Row/Column | List/Array | Stores multiple values |\n",
    "| Sheet | DataFrame | 2D data structure |\n",
    "| Formula | Function | Performs calculations |"
   ]
  },
  {
   "cell_type": "code",
   "execution_count": 74,
   "metadata": {},
   "outputs": [
    {
     "name": "stdout",
     "output_type": "stream",
     "text": [
      "Future revenue for Widget: $1150.0\n"
     ]
    }
   ],
   "source": [
    "# Basic Variables (like Excel cells)\n",
    "revenue = 1000\n",
    "growth_rate = 0.15\n",
    "product_name = \"Widget\"\n",
    "\n",
    "# Calculate future revenue (like Excel formula)\n",
    "future_revenue = revenue * (1 + growth_rate)\n",
    "print(f\"Future revenue for {product_name}: ${future_revenue}\")"
   ]
  },
  {
   "cell_type": "markdown",
   "metadata": {},
   "source": [
    "## 2. Lists and Arrays (like Excel Ranges)\n",
    "\n",
    "In Excel, you often work with ranges of cells. In Python, we use lists and arrays for similar purposes."
   ]
  },
  {
   "cell_type": "code",
   "execution_count": 75,
   "metadata": {},
   "outputs": [
    {
     "name": "stdout",
     "output_type": "stream",
     "text": [
      "Total sales: $8350\n",
      "Average sales: $1391.6666666666667\n"
     ]
    }
   ],
   "source": [
    "# Creating a list of monthly sales\n",
    "monthly_sales = [1200, 1350, 1400, 1300, 1500, 1600]\n",
    "\n",
    "# Calculating total sales (like Excel SUM)\n",
    "total_sales = sum(monthly_sales)\n",
    "\n",
    "# Calculating average sales (like Excel AVERAGE)\n",
    "average_sales = sum(monthly_sales) / len(monthly_sales)\n",
    "\n",
    "print(f\"Total sales: ${total_sales}\")\n",
    "print(f\"Average sales: ${average_sales}\")"
   ]
  },
  {
   "cell_type": "markdown",
   "metadata": {},
   "source": [
    "## 3. Control Structures\n",
    "\n",
    "While Excel uses IF formulas, Python has more flexible control structures."
   ]
  },
  {
   "cell_type": "code",
   "execution_count": 76,
   "metadata": {},
   "outputs": [
    {
     "name": "stdout",
     "output_type": "stream",
     "text": [
      "Month 1: $1200 - Below average\n",
      "Month 2: $1350 - Below average\n",
      "Month 3: $1400 - Above average\n",
      "Month 4: $1300 - Below average\n",
      "Month 5: $1500 - Above average\n",
      "Month 6: $1600 - Above average\n"
     ]
    }
   ],
   "source": [
    "# Example: Sales Performance Analysis\n",
    "for month, sales in enumerate(monthly_sales, 1):\n",
    "    if sales > average_sales:\n",
    "        performance = \"Above average\"\n",
    "    elif sales == average_sales:\n",
    "        performance = \"Average\"\n",
    "    else:\n",
    "        performance = \"Below average\"\n",
    "    \n",
    "    print(f\"Month {month}: ${sales} - {performance}\")"
   ]
  },
  {
   "cell_type": "markdown",
   "metadata": {},
   "source": [
    "## 4. Functions (like Excel Formulas)\n",
    "\n",
    "Instead of repeating formulas in Excel, Python uses functions for reusable calculations."
   ]
  },
  {
   "cell_type": "code",
   "execution_count": 77,
   "metadata": {},
   "outputs": [
    {
     "name": "stdout",
     "output_type": "stream",
     "text": [
      "Month 2 growth: 12.5%\n",
      "Month 3 growth: 3.7%\n",
      "Month 4 growth: -7.1%\n",
      "Month 5 growth: 15.4%\n",
      "Month 6 growth: 6.7%\n"
     ]
    }
   ],
   "source": [
    "def calculate_growth(current_value, previous_value):\n",
    "    \"\"\"Calculate percentage growth (like Excel's percentage change)\"\"\"\n",
    "    return (current_value - previous_value) / previous_value * 100\n",
    "\n",
    "# Calculate month-over-month growth\n",
    "for i in range(1, len(monthly_sales)):\n",
    "    growth = calculate_growth(monthly_sales[i], monthly_sales[i-1])\n",
    "    print(f\"Month {i+1} growth: {growth:.1f}%\")"
   ]
  },
  {
   "cell_type": "markdown",
   "metadata": {},
   "source": [
    "## Practice Exercises\n",
    "\n",
    "1. Create a list of product prices and calculate:\n",
    "   - Total revenue\n",
    "   - Average price\n",
    "   - Number of products above average price\n",
    "\n",
    "2. Write a function to calculate profit margin:\n",
    "   - Input: revenue and cost\n",
    "   - Output: profit margin percentage\n",
    "\n",
    "3. Analyze monthly sales data:\n",
    "   - Find highest and lowest months\n",
    "   - Calculate quarter-over-quarter growth\n",
    "   - Identify months with negative growth"
   ]
  },
  {
   "cell_type": "code",
   "execution_count": 78,
   "metadata": {},
   "outputs": [
    {
     "name": "stdout",
     "output_type": "stream",
     "text": [
      "         Date   Product     Category  Quantity  Unit_Price  Total_Sales Region\n",
      "0  2023-01-01  Widget A  Electronics        50       29.99      1499.50   East\n",
      "1  2023-01-01  Gadget B  Electronics        30       49.99      1499.70   West\n",
      "2  2023-01-02    Tool C     Hardware        75       15.99      1199.25  North\n",
      "3  2023-01-02  Widget A  Electronics        45       29.99      1349.55  South\n",
      "4  2023-01-03  Gadget B  Electronics        60       49.99      2999.40   East\n"
     ]
    },
    {
     "name": "stderr",
     "output_type": "stream",
     "text": [
      "<>:2: SyntaxWarning: invalid escape sequence '\\D'\n",
      "<>:2: SyntaxWarning: invalid escape sequence '\\D'\n",
      "C:\\Users\\PC\\AppData\\Local\\Temp\\ipykernel_5812\\2656795997.py:2: SyntaxWarning: invalid escape sequence '\\D'\n",
      "  sales = pd.read_csv('E:\\Data Science\\gachau_learning\\datasets\\sales\\sample_sales_data.csv')\n"
     ]
    }
   ],
   "source": [
    "import pandas as pd\n",
    "sales = pd.read_csv('E:\\Data Science\\gachau_learning\\datasets\\sales\\sample_sales_data.csv')\n",
    "print(sales.head())"
   ]
  },
  {
   "cell_type": "code",
   "execution_count": 79,
   "metadata": {},
   "outputs": [
    {
     "name": "stdout",
     "output_type": "stream",
     "text": [
      "          Date   Product     Category  Quantity  Unit_Price  Total_Sales  \\\n",
      "0   2023-01-01  Widget A  Electronics        50       29.99      1499.50   \n",
      "3   2023-01-02  Widget A  Electronics        45       29.99      1349.55   \n",
      "6   2023-01-04  Widget A  Electronics        80       29.99      2399.20   \n",
      "9   2023-01-05  Widget A  Electronics        35       29.99      1049.65   \n",
      "12  2023-01-07  Widget A  Electronics        65       29.99      1949.35   \n",
      "15  2023-01-08  Widget A  Electronics        30       29.99       899.70   \n",
      "18  2023-01-10  Widget A  Electronics        70       29.99      2099.30   \n",
      "\n",
      "   Region  \n",
      "0    East  \n",
      "3   South  \n",
      "6   North  \n",
      "9    West  \n",
      "12   East  \n",
      "15  South  \n",
      "18  North  \n"
     ]
    }
   ],
   "source": [
    "widget_a = sales[sales['Product'] == 'Widget A']\n",
    "print(widget_a)"
   ]
  },
  {
   "cell_type": "code",
   "execution_count": 80,
   "metadata": {},
   "outputs": [
    {
     "name": "stdout",
     "output_type": "stream",
     "text": [
      "The total revenue of the Widget A is 11246.25\n",
      "The average revenue of the Widget A is 1606.607142857143\n"
     ]
    }
   ],
   "source": [
    "# Calculating the total revenue of Widget A\n",
    "total_revenue = widget_a['Total_Sales'].sum()\n",
    "\n",
    "\n",
    "# Calculating the average revenue of Widget A\n",
    "average_revenue = widget_a['Total_Sales'].mean()\n",
    "\n",
    "print(f'The total revenue of the Widget A is {total_revenue}')\n",
    "print(f'The average revenue of the Widget A is {average_revenue}')  "
   ]
  },
  {
   "cell_type": "code",
   "execution_count": 81,
   "metadata": {},
   "outputs": [
    {
     "name": "stdout",
     "output_type": "stream",
     "text": [
      "The number of items above average price are 3\n"
     ]
    }
   ],
   "source": [
    "#Number of products above average price\n",
    "above_average_revenue = widget_a['Total_Sales']>widget_a['Total_Sales'].mean()\n",
    "print(f'The number of items above average price are {above_average_revenue.sum()}')"
   ]
  },
  {
   "cell_type": "code",
   "execution_count": 82,
   "metadata": {},
   "outputs": [
    {
     "name": "stdout",
     "output_type": "stream",
     "text": [
      "Item 0: $1499.5 - Below average\n",
      "Item 3: $1349.55 - Below average\n",
      "Item 6: $2399.2 - Above average\n",
      "Item 9: $1049.65 - Below average\n",
      "Item 12: $1949.35 - Above average\n",
      "Item 15: $899.7 - Below average\n",
      "Item 18: $2099.3 - Above average\n"
     ]
    }
   ],
   "source": [
    "#Sales Performance Analysis\n",
    "\n",
    "for index, mauzo in widget_a['Total_Sales'].items() :\n",
    "    if mauzo > average_revenue:\n",
    "        performance = \"Above average\"\n",
    "    elif mauzo == average_revenue:\n",
    "        performance = \"Average\"\n",
    "    else:\n",
    "        performance = \"Below average\"\n",
    "    \n",
    "    print(f\"Item {index}: ${mauzo} - {performance}\")"
   ]
  },
  {
   "cell_type": "code",
   "execution_count": 83,
   "metadata": {},
   "outputs": [],
   "source": [
    "#Write a function to calculate profit margin:\n",
    "#Input: revenue and cost\n",
    "#Output: profit margin percentage\n",
    "\n",
    "unit_cost = 20.00\n",
    "\n",
    "\n",
    "#profit margin\n"
   ]
  },
  {
   "cell_type": "code",
   "execution_count": 84,
   "metadata": {},
   "outputs": [
    {
     "name": "stdout",
     "output_type": "stream",
     "text": [
      "          Date   Product     Category  Quantity  Unit_Price  Total_Sales  \\\n",
      "0   2023-01-01  Widget A  Electronics        50       29.99      1499.50   \n",
      "3   2023-01-02  Widget A  Electronics        45       29.99      1349.55   \n",
      "6   2023-01-04  Widget A  Electronics        80       29.99      2399.20   \n",
      "9   2023-01-05  Widget A  Electronics        35       29.99      1049.65   \n",
      "12  2023-01-07  Widget A  Electronics        65       29.99      1949.35   \n",
      "15  2023-01-08  Widget A  Electronics        30       29.99       899.70   \n",
      "18  2023-01-10  Widget A  Electronics        70       29.99      2099.30   \n",
      "\n",
      "   Region  Total_Cost  Profit_Margin  \n",
      "0    East       900.0         166.61  \n",
      "3   South       820.0         164.58  \n",
      "6   North      1440.0         166.61  \n",
      "9    West       640.0         164.01  \n",
      "12   East      1180.0         165.20  \n",
      "15  South       540.0         166.61  \n",
      "18  North      1260.0         166.61  \n"
     ]
    },
    {
     "name": "stderr",
     "output_type": "stream",
     "text": [
      "C:\\Users\\PC\\AppData\\Local\\Temp\\ipykernel_5812\\3748843824.py:13: SettingWithCopyWarning: \n",
      "A value is trying to be set on a copy of a slice from a DataFrame.\n",
      "Try using .loc[row_indexer,col_indexer] = value instead\n",
      "\n",
      "See the caveats in the documentation: https://pandas.pydata.org/pandas-docs/stable/user_guide/indexing.html#returning-a-view-versus-a-copy\n",
      "  widget_a['Total_Cost'] = widget_a['Quantity'].apply(calculate_cost)\n",
      "C:\\Users\\PC\\AppData\\Local\\Temp\\ipykernel_5812\\3748843824.py:20: SettingWithCopyWarning: \n",
      "A value is trying to be set on a copy of a slice from a DataFrame.\n",
      "Try using .loc[row_indexer,col_indexer] = value instead\n",
      "\n",
      "See the caveats in the documentation: https://pandas.pydata.org/pandas-docs/stable/user_guide/indexing.html#returning-a-view-versus-a-copy\n",
      "  widget_a['Profit_Margin'] = ((widget_a['Total_Sales']/widget_a['Total_Cost'])*100).round(2)\n"
     ]
    }
   ],
   "source": [
    "#Total cost reduces by 10% for every 10 products\n",
    "def calculate_cost(quantity):\n",
    "    batch_size = 10\n",
    "    discount_rate = 0.1\n",
    "    unit_cost = 20\n",
    "\n",
    "    batches = quantity // batch_size\n",
    "    discount_cost = unit_cost * (1 - discount_rate) * (batches * batch_size)\n",
    "    remaining_cost = unit_cost * (quantity % batch_size)\n",
    "    \n",
    "    return discount_cost + remaining_cost\n",
    "\n",
    "widget_a['Total_Cost'] = widget_a['Quantity'].apply(calculate_cost)\n",
    "\n",
    "\n",
    "#Write a function to calculate profit margin:\n",
    "#Input: revenue and cost\n",
    "#Output: profit margin percentage\n",
    "\n",
    "widget_a['Profit_Margin'] = ((widget_a['Total_Sales']/widget_a['Total_Cost'])*100).round(2)\n",
    "\n",
    "print(widget_a)\n"
   ]
  },
  {
   "cell_type": "code",
   "execution_count": 85,
   "metadata": {},
   "outputs": [
    {
     "name": "stdout",
     "output_type": "stream",
     "text": [
      "          Date   Product     Category  Quantity  Unit_Price  Total_Sales  \\\n",
      "0   2023-01-01  Widget A  Electronics        50       29.99      1499.50   \n",
      "3   2023-01-02  Widget A  Electronics        45       29.99      1349.55   \n",
      "6   2023-01-04  Widget A  Electronics        80       29.99      2399.20   \n",
      "9   2023-01-05  Widget A  Electronics        35       29.99      1049.65   \n",
      "12  2023-01-07  Widget A  Electronics        65       29.99      1949.35   \n",
      "15  2023-01-08  Widget A  Electronics        30       29.99       899.70   \n",
      "18  2023-01-10  Widget A  Electronics        70       29.99      2099.30   \n",
      "\n",
      "   Region  Total_Cost  Profit_Margin  \n",
      "0    East       900.0         166.61  \n",
      "3   South       820.0         164.58  \n",
      "6   North      1440.0         166.61  \n",
      "9    West       640.0         164.01  \n",
      "12   East      1180.0         165.20  \n",
      "15  South       540.0         166.61  \n",
      "18  North      1260.0         166.61  \n"
     ]
    },
    {
     "name": "stderr",
     "output_type": "stream",
     "text": [
      "C:\\Users\\PC\\AppData\\Local\\Temp\\ipykernel_5812\\1774743934.py:14: SettingWithCopyWarning: \n",
      "A value is trying to be set on a copy of a slice from a DataFrame.\n",
      "Try using .loc[row_indexer,col_indexer] = value instead\n",
      "\n",
      "See the caveats in the documentation: https://pandas.pydata.org/pandas-docs/stable/user_guide/indexing.html#returning-a-view-versus-a-copy\n",
      "  widget_a['Profit_Margin'] = widget_a.apply(lambda row: calculate_profit_margin(row['Total_Sales'], row['Total_Cost']), axis=1)\n"
     ]
    }
   ],
   "source": [
    "#Write a function to calculate profit margin:\n",
    "#Input: revenue and cost\n",
    "#Output: profit margin percentage\n",
    "\n",
    "def calculate_profit_margin(revenue, cost):\n",
    "    if cost == 0.00:\n",
    "        return 0.00\n",
    "    profit_margin = round(((revenue/cost)*100),2)\n",
    "    #rounded_profit_margin = round(profit_margin, 2) \n",
    "    #remember .round is a pandas function and round is a python function\n",
    "    return profit_margin\n",
    "    \n",
    "#Apply to widget_a\n",
    "widget_a['Profit_Margin'] = widget_a.apply(lambda row: calculate_profit_margin(row['Total_Sales'], row['Total_Cost']), axis=1)\n",
    "print(widget_a)"
   ]
  }
 ],
 "metadata": {
  "kernelspec": {
   "display_name": "data_analytics",
   "language": "python",
   "name": "data_analytics"
  },
  "language_info": {
   "codemirror_mode": {
    "name": "ipython",
    "version": 3
   },
   "file_extension": ".py",
   "mimetype": "text/x-python",
   "name": "python",
   "nbconvert_exporter": "python",
   "pygments_lexer": "ipython3",
   "version": "3.13.1"
  }
 },
 "nbformat": 4,
 "nbformat_minor": 4
}
