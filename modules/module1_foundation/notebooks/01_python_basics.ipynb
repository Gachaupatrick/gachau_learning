{
 "cells": [
  {
   "cell_type": "markdown",
   "metadata": {},
   "source": [
    "# Python Basics for Data Analysis\n",
    "\n",
    "Welcome to your first Python notebook! This lesson bridges your Excel knowledge with Python programming, focusing on practical data analysis concepts.\n",
    "\n",
    "## Learning Objectives\n",
    "1. Understand Python basics with data analysis context\n",
    "2. Learn Excel to Python translations\n",
    "3. Practice with real-world examples"
   ]
  },
  {
   "cell_type": "markdown",
   "metadata": {},
   "source": [
    "## 1. Python vs Excel: Basic Concepts\n",
    "\n",
    "Let's start by comparing familiar Excel concepts with their Python equivalents:\n",
    "\n",
    "| Excel | Python | Description |\n",
    "|-------|--------|-------------|\n",
    "| Cell | Variable | Stores a single value |\n",
    "| Row/Column | List/Array | Stores multiple values |\n",
    "| Sheet | DataFrame | 2D data structure |\n",
    "| Formula | Function | Performs calculations |"
   ]
  },
  {
   "cell_type": "code",
   "execution_count": null,
   "metadata": {},
   "source": [
    "# Basic Variables (like Excel cells)\n",
    "revenue = 1000\n",
    "growth_rate = 0.15\n",
    "product_name = \"Widget\"\n",
    "\n",
    "# Calculate future revenue (like Excel formula)\n",
    "future_revenue = revenue * (1 + growth_rate)\n",
    "print(f\"Future revenue for {product_name}: ${future_revenue}\")"
   ]
  },
  {
   "cell_type": "markdown",
   "metadata": {},
   "source": [
    "## 2. Lists and Arrays (like Excel Ranges)\n",
    "\n",
    "In Excel, you often work with ranges of cells. In Python, we use lists and arrays for similar purposes."
   ]
  },
  {
   "cell_type": "code",
   "execution_count": null,
   "metadata": {},
   "source": [
    "# Creating a list of monthly sales\n",
    "monthly_sales = [1200, 1350, 1400, 1300, 1500, 1600]\n",
    "\n",
    "# Calculating total sales (like Excel SUM)\n",
    "total_sales = sum(monthly_sales)\n",
    "\n",
    "# Calculating average sales (like Excel AVERAGE)\n",
    "average_sales = sum(monthly_sales) / len(monthly_sales)\n",
    "\n",
    "print(f\"Total sales: ${total_sales}\")\n",
    "print(f\"Average sales: ${average_sales}\")"
   ]
  },
  {
   "cell_type": "markdown",
   "metadata": {},
   "source": [
    "## 3. Control Structures\n",
    "\n",
    "While Excel uses IF formulas, Python has more flexible control structures."
   ]
  },
  {
   "cell_type": "code",
   "execution_count": null,
   "metadata": {},
   "source": [
    "# Example: Sales Performance Analysis\n",
    "for month, sales in enumerate(monthly_sales, 1):\n",
    "    if sales > average_sales:\n",
    "        performance = \"Above average\"\n",
    "    elif sales == average_sales:\n",
    "        performance = \"Average\"\n",
    "    else:\n",
    "        performance = \"Below average\"\n",
    "    \n",
    "    print(f\"Month {month}: ${sales} - {performance}\")"
   ]
  },
  {
   "cell_type": "markdown",
   "metadata": {},
   "source": [
    "## 4. Functions (like Excel Formulas)\n",
    "\n",
    "Instead of repeating formulas in Excel, Python uses functions for reusable calculations."
   ]
  },
  {
   "cell_type": "code",
   "execution_count": null,
   "metadata": {},
   "source": [
    "def calculate_growth(current_value, previous_value):\n",
    "    \"\"\"Calculate percentage growth (like Excel's percentage change)\"\"\"\n",
    "    return (current_value - previous_value) / previous_value * 100\n",
    "\n",
    "# Calculate month-over-month growth\n",
    "for i in range(1, len(monthly_sales)):\n",
    "    growth = calculate_growth(monthly_sales[i], monthly_sales[i-1])\n",
    "    print(f\"Month {i+1} growth: {growth:.1f}%\")"
   ]
  },
  {
   "cell_type": "markdown",
   "metadata": {},
   "source": [
    "## Practice Exercises\n",
    "\n",
    "1. Create a list of product prices and calculate:\n",
    "   - Total revenue\n",
    "   - Average price\n",
    "   - Number of products above average price\n",
    "\n",
    "2. Write a function to calculate profit margin:\n",
    "   - Input: revenue and cost\n",
    "   - Output: profit margin percentage\n",
    "\n",
    "3. Analyze monthly sales data:\n",
    "   - Find highest and lowest months\n",
    "   - Calculate quarter-over-quarter growth\n",
    "   - Identify months with negative growth"
   ]
  }
 ],
 "metadata": {
  "kernelspec": {
   "display_name": "Python 3",
   "language": "python",
   "name": "python3"
  },
  "language_info": {
   "codemirror_mode": {
    "name": "ipython",
    "version": 3
   },
   "file_extension": ".py",
   "mimetype": "text/x-python",
   "name": "python",
   "nbconvert_exporter": "python",
   "pygments_lexer": "ipython3",
   "version": "3.8.0"
  }
 },
 "nbformat": 4,
 "nbformat_minor": 4
}
