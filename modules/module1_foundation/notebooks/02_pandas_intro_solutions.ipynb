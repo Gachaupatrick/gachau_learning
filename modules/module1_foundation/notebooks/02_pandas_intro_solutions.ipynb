{
 "cells": [
  {
   "cell_type": "markdown",
   "metadata": {},
   "source": [
    "# Practice Exercise Solutions\n",
    "\n",
    "This notebook contains solutions to the practice exercises from the pandas introduction notebook. Use this as a reference after attempting the exercises yourself."
   ]
  },
  {
   "cell_type": "code",
   "execution_count": null,
   "metadata": {},
   "source": [
    "# Import required libraries\n",
    "import pandas as pd\n",
    "import matplotlib.pyplot as plt\n",
    "import seaborn as sns\n",
    "\n",
    "# Set plot style\n",
    "plt.style.use('seaborn')\n",
    "%matplotlib inline\n",
    "\n",
    "# Load the data\n",
    "sales_df = pd.read_csv('../../datasets/sales/retail_sales_data.csv')\n",
    "sales_df['Date'] = pd.to_datetime(sales_df['Date'])"
   ]
  },
  {
   "cell_type": "markdown",
   "metadata": {},
   "source": [
    "## 1. Time Series Analysis Solutions"
   ]
  },
  {
   "cell_type": "code",
   "execution_count": null,
   "metadata": {},
   "source": [
    "# Calculate daily total sales\n",
    "daily_sales = sales_df.groupby('Date')['Total_Sales'].sum().reset_index()\n",
    "\n",
    "# Find busiest day of the week\n",
    "sales_df['Day_of_Week'] = sales_df['Date'].dt.day_name()\n",
    "dow_sales = sales_df.groupby('Day_of_Week')['Total_Sales'].agg(['sum', 'mean']).round(2)\n",
    "print(\"Sales by Day of Week:\")\n",
    "print(dow_sales)\n",
    "\n",
    "# Compare weekday vs weekend sales\n",
    "sales_df['Is_Weekend'] = sales_df['Date'].dt.dayofweek.isin([5, 6])\n",
    "weekend_comparison = sales_df.groupby('Is_Weekend')['Total_Sales'].agg(['sum', 'mean', 'count']).round(2)\n",
    "weekend_comparison.index = ['Weekday', 'Weekend']\n",
    "print(\"\\nWeekday vs Weekend Sales:\")\n",
    "print(weekend_comparison)"
   ]
  },
  {
   "cell_type": "markdown",
   "metadata": {},
   "source": [
    "## 2. Product Analysis Solutions"
   ]
  },
  {
   "cell_type": "code",
   "execution_count": null,
   "metadata": {},
   "source": [
    "# Calculate profit margins\n",
    "sales_df['Cost'] = sales_df['Unit_Price'] * 0.6  # 40% margin\n",
    "sales_df['Profit'] = sales_df['Total_Sales'] - (sales_df['Cost'] * sales_df['Quantity'])\n",
    "sales_df['Profit_Margin'] = (sales_df['Profit'] / sales_df['Total_Sales'] * 100).round(2)\n",
    "\n",
    "# Best-selling products\n",
    "product_sales = sales_df.groupby('Product').agg({\n",
    "    'Quantity': 'sum',\n",
    "    'Total_Sales': 'sum',\n",
    "    'Profit': 'sum',\n",
    "    'Profit_Margin': 'mean'\n",
    "}).round(2).sort_values('Quantity', ascending=False)\n",
    "\n",
    "print(\"Product Performance:\")\n",
    "print(product_sales)\n",
    "\n",
    "# Promotional effectiveness\n",
    "promo_impact = sales_df.groupby(['Product', 'On_Promotion']).agg({\n",
    "    'Quantity': 'mean',\n",
    "    'Total_Sales': 'mean',\n",
    "    'Profit_Margin': 'mean'\n",
    "}).round(2)\n",
    "\n",
    "print(\"\\nPromotional Impact:\")\n",
    "print(promo_impact)"
   ]
  },
  {
   "cell_type": "markdown",
   "metadata": {},
   "source": [
    "## 3. Regional Analysis Solutions"
   ]
  },
  {
   "cell_type": "code",
   "execution_count": null,
   "metadata": {},
   "source": [
    "# Regional sales rankings\n",
    "regional_performance = sales_df.groupby('Region').agg({\n",
    "    'Total_Sales': 'sum',\n",
    "    'Quantity': 'sum',\n",
    "    'Profit': 'sum'\n",
    "}).round(2).sort_values('Total_Sales', ascending=False)\n",
    "\n",
    "print(\"Regional Rankings:\")\n",
    "print(regional_performance)\n",
    "\n",
    "# Best category by region\n",
    "region_category = sales_df.groupby(['Region', 'Category'])['Total_Sales'].sum().unstack()\n",
    "best_category = region_category.idxmax(axis=1)\n",
    "print(\"\\nBest Performing Category by Region:\")\n",
    "print(best_category)\n",
    "\n",
    "# Regional seasonal patterns\n",
    "sales_df['Month'] = sales_df['Date'].dt.month\n",
    "seasonal_patterns = sales_df.groupby(['Region', 'Month'])['Total_Sales'].sum().unstack()\n",
    "\n",
    "# Plot seasonal patterns\n",
    "plt.figure(figsize=(15, 6))\n",
    "seasonal_patterns.plot(marker='o')\n",
    "plt.title('Regional Sales Patterns by Month')\n",
    "plt.xlabel('Month')\n",
    "plt.ylabel('Total Sales ($)')\n",
    "plt.legend(title='Region')\n",
    "plt.grid(True)\n",
    "plt.show()"
   ]
  },
  {
   "cell_type": "markdown",
   "metadata": {},
   "source": [
    "## 4. Advanced Dashboard Solutions"
   ]
  },
  {
   "cell_type": "code",
   "execution_count": null,
   "metadata": {},
   "source": [
    "# Create monthly performance dashboard\n",
    "fig, ((ax1, ax2), (ax3, ax4)) = plt.subplots(2, 2, figsize=(15, 12))\n",
    "\n",
    "# 1. Monthly Sales Trend with Trend Line\n",
    "monthly_trend = sales_df.groupby('Month')['Total_Sales'].sum()\n",
    "x = range(1, 13)\n",
    "z = np.polyfit(x, monthly_trend, 1)\n",
    "p = np.poly1d(z)\n",
    "\n",
    "ax1.plot(x, monthly_trend, 'bo-', label='Actual')\n",
    "ax1.plot(x, p(x), 'r--', label='Trend')\n",
    "ax1.set_title('Monthly Sales Trend')\n",
    "ax1.set_xlabel('Month')\n",
    "ax1.set_ylabel('Total Sales ($)')\n",
    "ax1.legend()\n",
    "\n",
    "# 2. Category Performance by Month\n",
    "category_monthly = sales_df.pivot_table(\n",
    "    values='Total_Sales',\n",
    "    index='Month',\n",
    "    columns='Category',\n",
    "    aggfunc='sum'\n",
    ")\n",
    "category_monthly.plot(ax=ax2)\n",
    "ax2.set_title('Category Performance')\n",
    "ax2.set_xlabel('Month')\n",
    "ax2.set_ylabel('Sales ($)')\n",
    "\n",
    "# 3. Cumulative Sales\n",
    "sales_df['Cumulative_Sales'] = sales_df.groupby('Category')['Total_Sales'].cumsum()\n",
    "for category in sales_df['Category'].unique():\n",
    "    data = sales_df[sales_df['Category'] == category]\n",
    "    ax3.plot(data['Date'], data['Cumulative_Sales'], label=category)\n",
    "ax3.set_title('Cumulative Sales by Category')\n",
    "ax3.set_xlabel('Date')\n",
    "ax3.set_ylabel('Cumulative Sales ($)')\n",
    "ax3.legend()\n",
    "\n",
    "# 4. Regional Market Share Over Time\n",
    "regional_share = sales_df.pivot_table(\n",
    "    values='Total_Sales',\n",
    "    index='Month',\n",
    "    columns='Region',\n",
    "    aggfunc='sum'\n",
    ").apply(lambda x: x/x.sum() * 100, axis=1)\n",
    "\n",
    "regional_share.plot(kind='area', stacked=True, ax=ax4)\n",
    "ax4.set_title('Regional Market Share')\n",
    "ax4.set_xlabel('Month')\n",
    "ax4.set_ylabel('Market Share (%)')\n",
    "\n",
    "plt.tight_layout()\n",
    "plt.show()"
   ]
  }
 ],
 "metadata": {
  "kernelspec": {
   "display_name": "Python 3",
   "language": "python",
   "name": "python3"
  },
  "language_info": {
   "codemirror_mode": {
    "name": "ipython",
    "version": 3
   },
   "file_extension": ".py",
   "mimetype": "text/x-python",
   "name": "python",
   "nbconvert_exporter": "python",
   "pygments_lexer": "ipython3",
   "version": "3.8.0"
  }
 },
 "nbformat": 4,
 "nbformat_minor": 4
}
